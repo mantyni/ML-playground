{
 "cells": [
  {
   "cell_type": "code",
   "execution_count": 79,
   "id": "268c7200",
   "metadata": {},
   "outputs": [],
   "source": [
    "# A simple MLP implementation that learns addition of two numbers"
   ]
  },
  {
   "cell_type": "code",
   "execution_count": 80,
   "id": "5c72613b",
   "metadata": {},
   "outputs": [],
   "source": [
    "import torch\n",
    "import numpy as np\n",
    "from sklearn.metrics import mean_squared_error\n",
    "from numpy import sqrt\n",
    "import matplotlib.pyplot as plt"
   ]
  },
  {
   "cell_type": "code",
   "execution_count": 81,
   "id": "77f20f4e",
   "metadata": {},
   "outputs": [],
   "source": [
    "# Dataset class. Prepare the dataset, normalize the inputs and targets, split into training and testing subsets\n",
    "\n",
    "class MultiDataset(torch.utils.data.Dataset):\n",
    "    def __init__(self, x, y):\n",
    "        \n",
    "        # Normalize the dataset using Z norm\n",
    "        self.x = (x - np.mean(x)) / np.std(x) \n",
    "        self.y = (y - np.mean(y)) / np.std(y) \n",
    "        \n",
    "        # Alternatively can normalize dividing input and target by their respective max values\n",
    "        #self.x = x / np.max(x) \n",
    "        #self.y = y / np.max(y)\n",
    "        \n",
    "        self.x = self.x.astype('float32')\n",
    "        self.y = self.y.reshape(len(y), 1)\n",
    "        self.y = self.y.astype('float32')\n",
    "    \n",
    "    def __len__(self):\n",
    "        return len(self.x)\n",
    "    \n",
    "    def __getitem__(self, idx):\n",
    "        return [self.x[idx], self.y[idx]]\n",
    "    \n",
    "    def get_splits(self, n_test = 0.33):\n",
    "        test_size = round(n_test * len(self.x))\n",
    "        train_size = len(self.x) - test_size\n",
    "        \n",
    "        return torch.utils.data.random_split(self, [train_size, test_size]) \n",
    "    \n",
    "    def prepare_dataset(self):\n",
    "        train, test = self.get_splits()\n",
    "        train_dl = torch.utils.data.DataLoader(train, batch_size=4, shuffle=True) # Test with larger batch numbers\n",
    "        test_dl = torch.utils.data.DataLoader(train, batch_size=32, shuffle=False)\n",
    "        \n",
    "        return train_dl, test_dl\n",
    "        "
   ]
  },
  {
   "cell_type": "code",
   "execution_count": 82,
   "id": "dab444ac",
   "metadata": {},
   "outputs": [],
   "source": [
    "# Multi-layer Perceptron model with 3 hidden layers\n",
    "\n",
    "class MLP(torch.nn.Module):\n",
    "    def __init__(self, n_inputs):\n",
    "        super(MLP, self).__init__()        \n",
    "        self.hidden1 = torch.nn.Sequential(torch.nn.Linear(n_inputs, 200), torch.nn.Sigmoid())\n",
    "        self.hidden2 = torch.nn.Sequential(torch.nn.Linear(200, 100), torch.nn.Sigmoid())        \n",
    "        self.hidden3 = torch.nn.Sequential(torch.nn.Linear(100, 20), torch.nn.Sigmoid())\n",
    "        self.output = torch.nn.Sequential(torch.nn.Linear(20,1))\n",
    "    \n",
    "    def forward(self, X):\n",
    "        X = self.hidden1(X)\n",
    "        X = self.hidden2(X)\n",
    "        X = self.hidden3(X)\n",
    "        X = self.output(X)\n",
    "\n",
    "        return X"
   ]
  },
  {
   "cell_type": "code",
   "execution_count": 83,
   "id": "8844840e",
   "metadata": {},
   "outputs": [],
   "source": [
    "# Train the model\n",
    "\n",
    "def train_model(train_dl, model, num_of_epochs=30):    \n",
    "    criterion = torch.nn.MSELoss()\n",
    "    optimizer = torch.optim.Adam(model.parameters(), lr=0.001) # Adam optimizer performs better compared to SGD\n",
    "    scheduler = torch.optim.lr_scheduler.ExponentialLR(optimizer, gamma=0.95) # Learning rate scheduler\n",
    "\n",
    "    #optimizer = torch.optim.SGD(model.parameters(), lr=0.01, momentum=0.1) # SGD optimizer\n",
    "    error = [] # Collect errors for plotting\n",
    "    lrs = []\n",
    "    model.train()\n",
    "    \n",
    "    for epoch in range(1, num_of_epochs+1): # Train for the specified number of epochs\n",
    "        for i, (inputs, targets) in enumerate(train_dl):        \n",
    "            optimizer.zero_grad()\n",
    "            y_hat = model(inputs)\n",
    "            loss = criterion(y_hat, targets)\n",
    "            loss.backward()\n",
    "            optimizer.step()\n",
    "            \n",
    "        error.append(np.mean(loss.item())) \n",
    "        lrs.append(optimizer.param_groups[0][\"lr\"])\n",
    "        scheduler.step()\n",
    "        \n",
    "        if epoch % 5 == 0 or epoch == num_of_epochs: # Print loss at every 5th epoch\n",
    "            print(f\"Epoch {epoch}, Loss: {loss.item()}, LR: {optimizer.param_groups[0]['lr']:.5f}\")\n",
    "        \n",
    "    plt.plot(error) \n",
    "    plt.plot(lrs) "
   ]
  },
  {
   "cell_type": "code",
   "execution_count": 84,
   "id": "a4ba6c4c",
   "metadata": {},
   "outputs": [],
   "source": [
    "# Evaluate the model\n",
    "\n",
    "def evaluate_model(test_dl, model):\n",
    "    model.eval()\n",
    "    predictions, actuals = list(), list()\n",
    "    for i, (inputs, targets) in enumerate(test_dl):\n",
    "        y_hat = model(inputs)\n",
    "        y_hat = y_hat.detach().numpy()\n",
    "        actual = targets.numpy()\n",
    "        actual = actual.reshape((len(actual), 1))\n",
    "        \n",
    "        predictions.append(y_hat)\n",
    "        actuals.append(actual)\n",
    "        \n",
    "    predictions, actuals = np.vstack(predictions), np.vstack(actuals)\n",
    "    mse = mean_squared_error(actuals, predictions)\n",
    "    \n",
    "    return mse"
   ]
  },
  {
   "cell_type": "code",
   "execution_count": 85,
   "id": "c6bcf7ff",
   "metadata": {},
   "outputs": [],
   "source": [
    "# Predict the output\n",
    "\n",
    "def predict(row, model):\n",
    "    row = torch.Tensor([row]) # Convert row to Torch tensor format\n",
    "    row_norm = (row - np.mean(x)) / np.std(x) # normalise the input using Z norm\n",
    "    y_hat = model(row_norm)\n",
    "    y_hat = y_hat.detach().numpy()\n",
    "    y_hat_norm = np.std(y) * y_hat + np.mean(y) # De-normalise the output \n",
    "    \n",
    "    return y_hat_norm\n",
    "    "
   ]
  },
  {
   "cell_type": "code",
   "execution_count": 86,
   "id": "df580876",
   "metadata": {},
   "outputs": [],
   "source": [
    "# Initialise the model's linear layer weights\n",
    "\n",
    "def init_weights(m):\n",
    "    if isinstance(m, torch.nn.Linear):\n",
    "        torch.nn.init.xavier_uniform(m.weight)\n",
    "        m.bias.data.fill_(0.01)"
   ]
  },
  {
   "cell_type": "code",
   "execution_count": 87,
   "id": "bd02d26d",
   "metadata": {},
   "outputs": [],
   "source": [
    "# Create the dataset containing two numbers as input and addition result as output\n",
    "\n",
    "x = []\n",
    "y = np.zeros(5000) # sample size\n",
    "\n",
    "max_range = 101 # upper number limit\n",
    "\n",
    "for d in range(len(y)):\n",
    "    x.append([np.random.randint(1,max_range), np.random.randint(1,max_range)]) # Trained on ranges between 0 to 10. \n",
    "\n",
    "    y[d] = x[d][0] + x[d][1] \n",
    "\n",
    "x = np.array(x)"
   ]
  },
  {
   "cell_type": "code",
   "execution_count": 88,
   "id": "23c5d7eb",
   "metadata": {},
   "outputs": [
    {
     "name": "stdout",
     "output_type": "stream",
     "text": [
      "input: [69 68], output: 137.0\n"
     ]
    }
   ],
   "source": [
    "# Review the dataset\n",
    "\n",
    "print(f\"input: {x[1]}, output: {y[1]}\") "
   ]
  },
  {
   "cell_type": "code",
   "execution_count": 89,
   "id": "acc9c728",
   "metadata": {},
   "outputs": [],
   "source": [
    "dataset = MultiDataset(x, y) # Create ataset class"
   ]
  },
  {
   "cell_type": "code",
   "execution_count": 90,
   "id": "ed2fd09b",
   "metadata": {},
   "outputs": [],
   "source": [
    "train_dl, test_dl = dataset.prepare_dataset() # Prepare dataset with train and test subsets"
   ]
  },
  {
   "cell_type": "code",
   "execution_count": 91,
   "id": "84b28d2c",
   "metadata": {},
   "outputs": [
    {
     "name": "stdout",
     "output_type": "stream",
     "text": [
      "838 105\n"
     ]
    }
   ],
   "source": [
    "print(len(train_dl), len(test_dl)) # Check the length of training and testing batch sizes"
   ]
  },
  {
   "cell_type": "code",
   "execution_count": 92,
   "id": "25671ece",
   "metadata": {},
   "outputs": [],
   "source": [
    "# Create MLP model with inputs of length 2. Initialize model weights\n",
    "model = MLP(2) \n",
    "init_weights(model)"
   ]
  },
  {
   "cell_type": "code",
   "execution_count": 93,
   "id": "e37d795a",
   "metadata": {},
   "outputs": [
    {
     "name": "stdout",
     "output_type": "stream",
     "text": [
      "Epoch 5, Loss: 0.0035843048244714737, LR: 0.00077\n",
      "Epoch 10, Loss: 1.4385522263182793e-05, LR: 0.00060\n",
      "Epoch 15, Loss: 1.3920009678258793e-07, LR: 0.00046\n",
      "Epoch 20, Loss: 3.471473519311985e-06, LR: 0.00036\n",
      "Epoch 25, Loss: 4.0609955931358854e-07, LR: 0.00028\n",
      "Epoch 30, Loss: 1.570697804709198e-06, LR: 0.00021\n",
      "Epoch 35, Loss: 1.0623979278534534e-06, LR: 0.00017\n",
      "Epoch 40, Loss: 5.697775122825988e-06, LR: 0.00013\n"
     ]
    },
    {
     "data": {
      "image/png": "[encoded data removed]",
      "text/plain": [
       "<Figure size 432x288 with 1 Axes>"
      ]
     },
     "metadata": {
      "needs_background": "light"
     },
     "output_type": "display_data"
    }
   ],
   "source": [
    "# Train the model for 35 epochs\n",
    "train_model(train_dl, model, 40)"
   ]
  },
  {
   "cell_type": "code",
   "execution_count": 94,
   "id": "e4f23e77",
   "metadata": {},
   "outputs": [
    {
     "name": "stdout",
     "output_type": "stream",
     "text": [
      "MSE: 0.000, RMSE: 0.002\n"
     ]
    }
   ],
   "source": [
    "# Evaluate the model using mean square error and root mean square error\n",
    "mse = evaluate_model(test_dl, model)\n",
    "print(\"MSE: %.3f, RMSE: %.3f\" % (mse, sqrt(mse)))"
   ]
  },
  {
   "cell_type": "code",
   "execution_count": 95,
   "id": "4c3ec417",
   "metadata": {},
   "outputs": [
    {
     "name": "stdout",
     "output_type": "stream",
     "text": [
      "1 - Input: (15, 69). Predicted result: 83.963, actual: 84\n",
      "2 - Input: (40, 59). Predicted result: 98.990, actual: 99\n",
      "3 - Input: (58, 36). Predicted result: 93.992, actual: 94\n",
      "4 - Input: (79, 10). Predicted result: 88.952, actual: 89\n",
      "5 - Input: (18, 73). Predicted result: 90.976, actual: 91\n",
      "6 - Input: (99, 66). Predicted result: 164.959, actual: 165\n",
      "7 - Input: (45, 48). Predicted result: 92.996, actual: 93\n",
      "8 - Input: (13, 42). Predicted result: 54.887, actual: 55\n",
      "9 - Input: (89, 17). Predicted result: 105.979, actual: 106\n",
      "10 - Input: (98, 29). Predicted result: 127.004, actual: 127\n"
     ]
    }
   ],
   "source": [
    "# Test learned addition with some random samples \n",
    "for g in range(1,11):\n",
    "    sample = np.array([np.random.randint(1,max_range), np.random.randint(1,max_range)])\n",
    "    predicted = predict(sample, model)\n",
    "    actual = sample[0] + sample[1]\n",
    "    print(f'{g} - Input: ({sample[0]}, {sample[1]}). Predicted result: {predicted.item():.3f}, actual: {actual}')"
   ]
  },
  {
   "cell_type": "code",
   "execution_count": 97,
   "id": "618755d1",
   "metadata": {},
   "outputs": [
    {
     "name": "stdout",
     "output_type": "stream",
     "text": [
      "20.763 \n"
     ]
    }
   ],
   "source": [
    "# Manually test a sample of numbers between 1-10\n",
    "print(\"%.3f \" % predict(np.array([11,10]), model).item())"
   ]
  },
  {
   "cell_type": "code",
   "execution_count": null,
   "id": "c23792eb",
   "metadata": {},
   "outputs": [],
   "source": []
  }
 ],
 "metadata": {
  "kernelspec": {
   "display_name": "Python 3 (ipykernel)",
   "language": "python",
   "name": "python3"
  },
  "language_info": {
   "codemirror_mode": {
    "name": "ipython",
    "version": 3
   },
   "file_extension": ".py",
   "mimetype": "text/x-python",
   "name": "python",
   "nbconvert_exporter": "python",
   "pygments_lexer": "ipython3",
   "version": "3.8.10"
  }
 },
 "nbformat": 4,
 "nbformat_minor": 5
}
