{
 "cells": [
  {
   "cell_type": "code",
   "execution_count": 116,
   "id": "268c7200",
   "metadata": {},
   "outputs": [],
   "source": [
    "# A simple MLP implementation that learns multiplication of two numbers"
   ]
  },
  {
   "cell_type": "code",
   "execution_count": 117,
   "id": "5c72613b",
   "metadata": {},
   "outputs": [],
   "source": [
    "import torch\n",
    "import numpy as np\n",
    "from sklearn.metrics import mean_squared_error\n",
    "from numpy import sqrt\n",
    "import matplotlib.pyplot as plt\n",
    "import pandas as pd"
   ]
  },
  {
   "cell_type": "code",
   "execution_count": 118,
   "id": "77f20f4e",
   "metadata": {},
   "outputs": [],
   "source": [
    "# Dataset class. Prepare the dataset, normalize the inputs and targets, split into training and testing subsets\n",
    "\n",
    "class MultiDataset(torch.utils.data.Dataset):\n",
    "    def __init__(self, x, y):\n",
    "        \n",
    "        # Normalize the dataset using Z norm\n",
    "        self.x = (x - np.mean(x)) / np.std(x) \n",
    "        self.y = (y - np.mean(y)) / np.std(y) \n",
    "        \n",
    "        # Alternatively can normalize dividing input and target by their respective max values\n",
    "        #self.x = x / np.max(x) \n",
    "        #self.y = y / np.max(y)\n",
    "        \n",
    "        self.x = self.x.astype('float32')\n",
    "        self.y = self.y.reshape(len(y), 1)\n",
    "        self.y = self.y.astype('float32')\n",
    "    \n",
    "    def __len__(self):\n",
    "        return len(self.x)\n",
    "    \n",
    "    def __getitem__(self, idx):\n",
    "        return [self.x[idx], self.y[idx]]\n",
    "    \n",
    "    def get_splits(self, n_test = 0.33):\n",
    "        test_size = round(n_test * len(self.x))\n",
    "        train_size = len(self.x) - test_size\n",
    "        \n",
    "        return torch.utils.data.random_split(self, [train_size, test_size]) \n",
    "    \n",
    "    def prepare_dataset(self):\n",
    "        train, test = self.get_splits()\n",
    "        train_dl = torch.utils.data.DataLoader(train, batch_size=4, shuffle=True) # Test with larger batch numbers\n",
    "        test_dl = torch.utils.data.DataLoader(train, batch_size=32, shuffle=False)\n",
    "        \n",
    "        return train_dl, test_dl\n",
    "        "
   ]
  },
  {
   "cell_type": "code",
   "execution_count": 119,
   "id": "dab444ac",
   "metadata": {},
   "outputs": [],
   "source": [
    "# Multi-layer Perceptron model with 3 hidden layers\n",
    "\n",
    "class MLP(torch.nn.Module):\n",
    "    def __init__(self, n_inputs):\n",
    "        super(MLP, self).__init__()        \n",
    "        self.hidden1 = torch.nn.Sequential(torch.nn.Linear(n_inputs, 200), torch.nn.Sigmoid())\n",
    "        self.hidden2 = torch.nn.Sequential(torch.nn.Linear(200, 100), torch.nn.Sigmoid())        \n",
    "        self.hidden3 = torch.nn.Sequential(torch.nn.Linear(100, 20), torch.nn.Sigmoid())\n",
    "        self.output = torch.nn.Sequential(torch.nn.Linear(20,1))\n",
    "    \n",
    "    def forward(self, X):\n",
    "        X = self.hidden1(X)\n",
    "        X = self.hidden2(X)\n",
    "        X = self.hidden3(X)\n",
    "        X = self.output(X)\n",
    "\n",
    "        return X"
   ]
  },
  {
   "cell_type": "code",
   "execution_count": 120,
   "id": "8844840e",
   "metadata": {},
   "outputs": [],
   "source": [
    "# Train the model\n",
    "\n",
    "def train_model(train_dl, model, num_of_epochs=30):    \n",
    "    criterion = torch.nn.MSELoss()\n",
    "    optimizer = torch.optim.Adam(model.parameters(), lr=0.001) # Adam optimizer performs better compared to SGD\n",
    "    scheduler = torch.optim.lr_scheduler.ExponentialLR(optimizer, gamma=0.95) # Learning rate scheduler\n",
    "\n",
    "    #optimizer = torch.optim.SGD(model.parameters(), lr=0.01, momentum=0.1) # SGD optimizer\n",
    "    error = [] # Collect errors for plotting\n",
    "    lrs = []\n",
    "    model.train()\n",
    "    \n",
    "    for epoch in range(1, num_of_epochs+1): # Train for the specified number of epochs\n",
    "        for i, (inputs, targets) in enumerate(train_dl):        \n",
    "            optimizer.zero_grad()\n",
    "            y_hat = model(inputs)\n",
    "            loss = criterion(y_hat, targets)\n",
    "            loss.backward()\n",
    "            optimizer.step()\n",
    "            \n",
    "        error.append(np.mean(loss.item())) \n",
    "        lrs.append(optimizer.param_groups[0][\"lr\"])\n",
    "        scheduler.step()\n",
    "        \n",
    "        if epoch % 5 == 0 or epoch == num_of_epochs: # Print loss at every 5th epoch\n",
    "            print(f\"Epoch {epoch}, Loss: {loss.item()}, LR: {optimizer.param_groups[0]['lr']:.5f}\")\n",
    "        \n",
    "    plt.plot(error, label='Loss') \n",
    "    plt.plot(lrs, label='Lr') \n",
    "    plt.legend(loc='upper left')\n",
    "    plt.xlabel('Epoch')\n",
    "    plt.title('Model results')\n",
    "    plt.show()"
   ]
  },
  {
   "cell_type": "code",
   "execution_count": 121,
   "id": "a4ba6c4c",
   "metadata": {},
   "outputs": [],
   "source": [
    "# Evaluate the model\n",
    "\n",
    "def evaluate_model(test_dl, model):\n",
    "    model.eval()\n",
    "    predictions, actuals = list(), list()\n",
    "    for i, (inputs, targets) in enumerate(test_dl):\n",
    "        y_hat = model(inputs)\n",
    "        y_hat = y_hat.detach().numpy()\n",
    "        actual = targets.numpy()\n",
    "        actual = actual.reshape((len(actual), 1))\n",
    "        \n",
    "        predictions.append(y_hat)\n",
    "        actuals.append(actual)\n",
    "        \n",
    "    predictions, actuals = np.vstack(predictions), np.vstack(actuals)\n",
    "    mse = mean_squared_error(actuals, predictions)\n",
    "    \n",
    "    return mse"
   ]
  },
  {
   "cell_type": "code",
   "execution_count": 122,
   "id": "c6bcf7ff",
   "metadata": {},
   "outputs": [],
   "source": [
    "# Predict the output\n",
    "\n",
    "def predict(row, model):\n",
    "    row = torch.Tensor([row]) # Convert row to Torch tensor format\n",
    "    row_norm = (row - np.mean(x)) / np.std(x) # normalise the input using Z norm\n",
    "    y_hat = model(row_norm)\n",
    "    y_hat = y_hat.detach().numpy()\n",
    "    y_hat_norm = np.std(y) * y_hat + np.mean(y) # De-normalise the output \n",
    "    \n",
    "    return y_hat_norm\n",
    "    "
   ]
  },
  {
   "cell_type": "code",
   "execution_count": 123,
   "id": "df580876",
   "metadata": {},
   "outputs": [],
   "source": [
    "# Initialise the model's linear layer weights\n",
    "\n",
    "def init_weights(m):\n",
    "    if isinstance(m, torch.nn.Linear):\n",
    "        torch.nn.init.xavier_uniform(m.weight)\n",
    "        m.bias.data.fill_(0.01)"
   ]
  },
  {
   "cell_type": "code",
   "execution_count": 124,
   "id": "bd02d26d",
   "metadata": {},
   "outputs": [],
   "source": [
    "# Create the dataset containing two numbers as input and multiplication result as output\n",
    "\n",
    "x = []\n",
    "y = np.zeros(5000) # sample size\n",
    "\n",
    "max_range = 15 # upper number limit\n",
    "\n",
    "for d in range(len(y)):\n",
    "    x.append([np.random.randint(1,max_range), np.random.randint(1,max_range)]) # Trained on ranges between 0 to 15. \n",
    "\n",
    "    y[d] = x[d][0] * x[d][1] \n",
    "\n",
    "x = np.array(x)"
   ]
  },
  {
   "cell_type": "code",
   "execution_count": 125,
   "id": "23c5d7eb",
   "metadata": {},
   "outputs": [
    {
     "name": "stdout",
     "output_type": "stream",
     "text": [
      "input: [11  5], output: 55.0\n"
     ]
    }
   ],
   "source": [
    "# Review the dataset\n",
    "\n",
    "print(f\"input: {x[1]}, output: {y[1]}\") "
   ]
  },
  {
   "cell_type": "code",
   "execution_count": 126,
   "id": "acc9c728",
   "metadata": {},
   "outputs": [],
   "source": [
    "dataset = MultiDataset(x, y) # Create ataset class"
   ]
  },
  {
   "cell_type": "code",
   "execution_count": 127,
   "id": "ed2fd09b",
   "metadata": {},
   "outputs": [],
   "source": [
    "train_dl, test_dl = dataset.prepare_dataset() # Prepare dataset with train and test subsets"
   ]
  },
  {
   "cell_type": "code",
   "execution_count": 128,
   "id": "84b28d2c",
   "metadata": {},
   "outputs": [
    {
     "name": "stdout",
     "output_type": "stream",
     "text": [
      "838 105\n"
     ]
    }
   ],
   "source": [
    "print(len(train_dl), len(test_dl)) # Check the length of training and testing batch sizes"
   ]
  },
  {
   "cell_type": "code",
   "execution_count": 129,
   "id": "25671ece",
   "metadata": {},
   "outputs": [],
   "source": [
    "# Create MLP model with inputs of length 2. Initialize model weights\n",
    "model = MLP(2) \n",
    "init_weights(model)"
   ]
  },
  {
   "cell_type": "code",
   "execution_count": 130,
   "id": "e37d795a",
   "metadata": {},
   "outputs": [
    {
     "name": "stdout",
     "output_type": "stream",
     "text": [
      "Epoch 5, Loss: 9.449256322113797e-05, LR: 0.00077\n",
      "Epoch 10, Loss: 0.00011417697533033788, LR: 0.00060\n",
      "Epoch 15, Loss: 9.432173828827217e-05, LR: 0.00046\n",
      "Epoch 20, Loss: 3.633171218098141e-05, LR: 0.00036\n",
      "Epoch 25, Loss: 2.046965528279543e-05, LR: 0.00028\n",
      "Epoch 30, Loss: 3.7050740502309054e-05, LR: 0.00021\n"
     ]
    },
    {
     "data": {
      "image/png": "[encoded data removed]",
      "text/plain": [
       "<Figure size 432x288 with 1 Axes>"
      ]
     },
     "metadata": {
      "needs_background": "light"
     },
     "output_type": "display_data"
    }
   ],
   "source": [
    "# Train the model for 30 epochs\n",
    "train_model(train_dl, model, 30)"
   ]
  },
  {
   "cell_type": "code",
   "execution_count": 131,
   "id": "e4f23e77",
   "metadata": {},
   "outputs": [
    {
     "name": "stdout",
     "output_type": "stream",
     "text": [
      "MSE: 0.000, RMSE: 0.007\n"
     ]
    }
   ],
   "source": [
    "# Evaluate the model using mean square error and root mean square error\n",
    "mse = evaluate_model(test_dl, model)\n",
    "print(\"MSE: %.3f, RMSE: %.3f\" % (mse, sqrt(mse)))"
   ]
  },
  {
   "cell_type": "code",
   "execution_count": 132,
   "id": "39a1f5e0",
   "metadata": {},
   "outputs": [
    {
     "data": {
      "text/html": [
       "<div>\n",
       "<style scoped>\n",
       "    .dataframe tbody tr th:only-of-type {\n",
       "        vertical-align: middle;\n",
       "    }\n",
       "\n",
       "    .dataframe tbody tr th {\n",
       "        vertical-align: top;\n",
       "    }\n",
       "\n",
       "    .dataframe thead th {\n",
       "        text-align: right;\n",
       "    }\n",
       "</style>\n",
       "<table border=\"1\" class=\"dataframe\">\n",
       "  <thead>\n",
       "    <tr style=\"text-align: right;\">\n",
       "      <th></th>\n",
       "      <th>Input</th>\n",
       "      <th>Predicted:</th>\n",
       "      <th>Actual</th>\n",
       "      <th>Error</th>\n",
       "    </tr>\n",
       "  </thead>\n",
       "  <tbody>\n",
       "    <tr>\n",
       "      <th>0</th>\n",
       "      <td>[10, 2]</td>\n",
       "      <td>19.551</td>\n",
       "      <td>20</td>\n",
       "      <td>0.202</td>\n",
       "    </tr>\n",
       "    <tr>\n",
       "      <th>1</th>\n",
       "      <td>[6, 2]</td>\n",
       "      <td>11.697</td>\n",
       "      <td>12</td>\n",
       "      <td>0.147</td>\n",
       "    </tr>\n",
       "    <tr>\n",
       "      <th>2</th>\n",
       "      <td>[14, 12]</td>\n",
       "      <td>168.191</td>\n",
       "      <td>168</td>\n",
       "      <td>0.110</td>\n",
       "    </tr>\n",
       "    <tr>\n",
       "      <th>3</th>\n",
       "      <td>[12, 3]</td>\n",
       "      <td>35.507</td>\n",
       "      <td>36</td>\n",
       "      <td>0.143</td>\n",
       "    </tr>\n",
       "    <tr>\n",
       "      <th>4</th>\n",
       "      <td>[3, 3]</td>\n",
       "      <td>9.006</td>\n",
       "      <td>9</td>\n",
       "      <td>0.115</td>\n",
       "    </tr>\n",
       "    <tr>\n",
       "      <th>5</th>\n",
       "      <td>[1, 3]</td>\n",
       "      <td>2.985</td>\n",
       "      <td>3</td>\n",
       "      <td>0.096</td>\n",
       "    </tr>\n",
       "    <tr>\n",
       "      <th>6</th>\n",
       "      <td>[4, 14]</td>\n",
       "      <td>55.873</td>\n",
       "      <td>56</td>\n",
       "      <td>0.084</td>\n",
       "    </tr>\n",
       "    <tr>\n",
       "      <th>7</th>\n",
       "      <td>[11, 12]</td>\n",
       "      <td>131.882</td>\n",
       "      <td>132</td>\n",
       "      <td>0.075</td>\n",
       "    </tr>\n",
       "    <tr>\n",
       "      <th>8</th>\n",
       "      <td>[4, 1]</td>\n",
       "      <td>3.946</td>\n",
       "      <td>4</td>\n",
       "      <td>0.067</td>\n",
       "    </tr>\n",
       "    <tr>\n",
       "      <th>9</th>\n",
       "      <td>[10, 5]</td>\n",
       "      <td>49.628</td>\n",
       "      <td>50</td>\n",
       "      <td>0.074</td>\n",
       "    </tr>\n",
       "  </tbody>\n",
       "</table>\n",
       "</div>"
      ],
      "text/plain": [
       "      Input  Predicted:  Actual  Error\n",
       "0   [10, 2]      19.551      20  0.202\n",
       "1    [6, 2]      11.697      12  0.147\n",
       "2  [14, 12]     168.191     168  0.110\n",
       "3   [12, 3]      35.507      36  0.143\n",
       "4    [3, 3]       9.006       9  0.115\n",
       "5    [1, 3]       2.985       3  0.096\n",
       "6   [4, 14]      55.873      56  0.084\n",
       "7  [11, 12]     131.882     132  0.075\n",
       "8    [4, 1]       3.946       4  0.067\n",
       "9   [10, 5]      49.628      50  0.074"
      ]
     },
     "metadata": {},
     "output_type": "display_data"
    }
   ],
   "source": [
    "# Test learned multiplication with few random samples \n",
    "sample = []\n",
    "predicted = []\n",
    "actual = []\n",
    "error = []\n",
    "\n",
    "for g in range(0,10):\n",
    "    sample.append(np.array([np.random.randint(1,max_range), np.random.randint(1,max_range)]))\n",
    "    predicted.append(predict(sample[g], model).item())\n",
    "    actual.append(sample[g][0] * sample[g][1])\n",
    "    error.append(mean_squared_error([predicted], [actual]))\n",
    "    \n",
    "table = {'Input': sample, \n",
    "        'Predicted:': predicted,\n",
    "        'Actual': actual,\n",
    "        'Error': error\n",
    "       }\n",
    "pd.set_option(\"display.precision\", 3)\n",
    "df = pd.DataFrame(table)\n",
    "display(df)"
   ]
  },
  {
   "cell_type": "code",
   "execution_count": 133,
   "id": "fe498362",
   "metadata": {},
   "outputs": [
    {
     "name": "stdout",
     "output_type": "stream",
     "text": [
      "156.048  156\n"
     ]
    }
   ],
   "source": [
    "# Manually test a sample of numbers between 1-15\n",
    "x1 = 12\n",
    "x2 = 13\n",
    "print(\"%.3f \" % predict(np.array([x1,x2]), model).item(), (x1*x2))"
   ]
  }
 ],
 "metadata": {
  "kernelspec": {
   "display_name": "Python 3 (ipykernel)",
   "language": "python",
   "name": "python3"
  },
  "language_info": {
   "codemirror_mode": {
    "name": "ipython",
    "version": 3
   },
   "file_extension": ".py",
   "mimetype": "text/x-python",
   "name": "python",
   "nbconvert_exporter": "python",
   "pygments_lexer": "ipython3",
   "version": "3.8.10"
  }
 },
 "nbformat": 4,
 "nbformat_minor": 5
}
