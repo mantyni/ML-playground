{
 "cells": [
  {
   "cell_type": "code",
   "execution_count": 466,
   "id": "bb65d4c2",
   "metadata": {},
   "outputs": [],
   "source": [
    "# simple MLP to learn to compute two number addition (numbers between 1 to 10)"
   ]
  },
  {
   "cell_type": "code",
   "execution_count": 1002,
   "id": "5c72613b",
   "metadata": {},
   "outputs": [],
   "source": [
    "import torch\n",
    "import numpy as np\n",
    "from sklearn.metrics import mean_squared_error\n",
    "from numpy import sqrt\n",
    "import matplotlib.pyplot as plt\n"
   ]
  },
  {
   "cell_type": "code",
   "execution_count": 937,
   "id": "c669f44d",
   "metadata": {},
   "outputs": [
    {
     "data": {
      "text/plain": [
       "array([[-0.85833768, -0.25046095],\n",
       "       [-0.5806784 , -0.68648629],\n",
       "       [-0.06339535, -0.4396012 ],\n",
       "       ...,\n",
       "       [-0.94478204, -0.12044863],\n",
       "       [-0.80785417,  0.94350854],\n",
       "       [-0.82963815,  0.87089528]])"
      ]
     },
     "execution_count": 937,
     "metadata": {},
     "output_type": "execute_result"
    }
   ],
   "source": [
    "(x - np.mean(x)) / np.std(x)"
   ]
  },
  {
   "cell_type": "code",
   "execution_count": null,
   "id": "9a64234d",
   "metadata": {},
   "outputs": [],
   "source": [
    "x = std*z + m"
   ]
  },
  {
   "cell_type": "code",
   "execution_count": 1153,
   "id": "bd02d26d",
   "metadata": {},
   "outputs": [],
   "source": [
    "x = []\n",
    "y = np.zeros(10000)\n",
    "\n",
    "for d in range(len(y)):\n",
    "    # trained on ranges between 0 to 100. Can change to 1k or 10k\n",
    "    x.append([np.random.randint(0,1001), np.random.randint(0,1001)])\n",
    "    y[d] = x[d][0] + x[d][1] \n",
    "\n",
    "x = np.array(x)"
   ]
  },
  {
   "cell_type": "code",
   "execution_count": 1136,
   "id": "77f20f4e",
   "metadata": {},
   "outputs": [],
   "source": [
    "class SumDataset(torch.utils.data.Dataset):\n",
    "    def __init__(self, x, y):\n",
    "        # normalise dataset\n",
    "        self.x = (x - np.mean(x)) / np.std(x) \n",
    "        #self.x = x / np.max(x)\n",
    "        self.y = (y - np.mean(y)) / np.std(y) \n",
    "        #self.y = y / np.max(y)\n",
    "        \n",
    "        self.x = self.x.astype('float32')\n",
    "        self.y = self.y.reshape(len(y), 1)\n",
    "        self.y = self.y.astype('float32')\n",
    "    \n",
    "    def __len__(self):\n",
    "        return len(self.x)\n",
    "    \n",
    "    def __getitem__(self, idx):\n",
    "        return [self.x[idx], self.y[idx]]\n",
    "    \n",
    "    def get_splits(self, n_test = 0.33):\n",
    "        test_size = round(n_test * len(self.x))\n",
    "        train_size = len(self.x) - test_size\n",
    "        \n",
    "        return torch.utils.data.random_split(self, [train_size, test_size]) # need random split here\n",
    "    \n",
    "    def prepare_dataset(self):\n",
    "        train, test = self.get_splits()\n",
    "        train_dl = torch.utils.data.DataLoader(train, batch_size=1, shuffle=True) # batching this dataset does not work\n",
    "        test_dl = torch.utils.data.DataLoader(train, batch_size=64, shuffle=False)\n",
    "        \n",
    "        return train_dl, test_dl\n",
    "        "
   ]
  },
  {
   "cell_type": "code",
   "execution_count": 1147,
   "id": "62907f1a",
   "metadata": {},
   "outputs": [],
   "source": [
    "# Do not use, small model produces poor results \n",
    "\n",
    "class MLP(torch.nn.Module):\n",
    "    def __init__(self, n_inputs):\n",
    "        super(MLP, self).__init__()\n",
    "        print(\"small model\")\n",
    "        # first hidden layer input\n",
    "        self.hidden1 = torch.nn.Linear(n_inputs, 10)\n",
    "        torch.nn.init.xavier_uniform_(self.hidden1.weight)\n",
    "        self.act1 = torch.nn.Sigmoid()\n",
    "        # second hiddn layer\n",
    "        self.hidden2 = torch.nn.Linear(10, 8)\n",
    "        torch.nn.init.xavier_uniform_(self.hidden2.weight)\n",
    "        self.act2 = torch.nn.Sigmoid()\n",
    "        \n",
    "        # third hidden layer, output\n",
    "        self.hidden3 = torch.nn.Linear(8, 1)\n",
    "        torch.nn.init.xavier_uniform_(self.hidden3.weight)\n",
    "\n",
    "        \n",
    "    def forward(self, d):\n",
    "        d = self.hidden1(d)\n",
    "        d = self.act1(d)\n",
    "        d = self.hidden2(d)\n",
    "        d = self.act2(d)        \n",
    "        d = self.hidden3(d)\n",
    "\n",
    "        return d"
   ]
  },
  {
   "cell_type": "code",
   "execution_count": 1138,
   "id": "36b342ad",
   "metadata": {},
   "outputs": [],
   "source": [
    "class MLP(torch.nn.Module):\n",
    "    def __init__(self, n_inputs):\n",
    "        super(MLP, self).__init__()\n",
    "        # first hidden layer input\n",
    "        self.hidden1 = torch.nn.Linear(n_inputs, 200)\n",
    "        torch.nn.init.xavier_uniform_(self.hidden1.weight)\n",
    "        self.act1 = torch.nn.Sigmoid()\n",
    "        # second hiddn layer\n",
    "        self.hidden2 = torch.nn.Linear(200, 100)\n",
    "        torch.nn.init.xavier_uniform_(self.hidden2.weight)\n",
    "        self.act2 = torch.nn.Sigmoid()\n",
    "        \n",
    "        self.hidden3 = torch.nn.Linear(100, 20)\n",
    "        torch.nn.init.xavier_uniform_(self.hidden3.weight)\n",
    "        self.act3 = torch.nn.Sigmoid()\n",
    "        \n",
    "        # third hidden layer, output\n",
    "        self.hidden4 = torch.nn.Linear(20, 1)\n",
    "        torch.nn.init.xavier_uniform_(self.hidden3.weight)\n",
    "        \n",
    "    def forward(self, d):\n",
    "        d = self.hidden1(d)\n",
    "        d = self.act1(d)\n",
    "        d = self.hidden2(d)\n",
    "        d = self.act2(d)        \n",
    "        d = self.hidden3(d)\n",
    "        d = self.act3(d)   \n",
    "        d = self.hidden4(d)\n",
    "\n",
    "        return d"
   ]
  },
  {
   "cell_type": "code",
   "execution_count": 1159,
   "id": "065592db",
   "metadata": {},
   "outputs": [],
   "source": [
    "def train_model(train_dl, model):\n",
    "    criterion = torch.nn.MSELoss()\n",
    "    #optimizer = torch.optim.SGD(model.parameters(), lr=0.01)\n",
    "    # works with both optimisers, but for some reason momentum value has to be low\n",
    "    optimizer = torch.optim.Adam(model.parameters(), lr=0.0001)\n",
    "    #optimizer = torch.optim.SGD(model.parameters(), lr=0.01, momentum=0.1)\n",
    "    error = []\n",
    "    for epoch in range(40):\n",
    "        for i, (inputs, targets) in enumerate(train_dl):\n",
    "            \n",
    "            optimizer.zero_grad()\n",
    "            y_hat = model(inputs)\n",
    "            loss = criterion(y_hat, targets)\n",
    "            loss.backward()\n",
    "            optimizer.step()\n",
    "            \n",
    "        error.append(np.mean(loss.item()))\n",
    "        print(f\"Epoch {epoch}, Loss: {loss.item()}\")\n",
    "        \n",
    "    plt.plot(error)     "
   ]
  },
  {
   "cell_type": "code",
   "execution_count": 1140,
   "id": "4c002c38",
   "metadata": {},
   "outputs": [],
   "source": [
    "def evaluate_model(test_dl, model):\n",
    "    predictions, actuals = list(), list()\n",
    "    for i, (inputs, targets) in enumerate(test_dl):\n",
    "        y_hat = model(inputs)\n",
    "        y_hat = y_hat.detach().numpy()\n",
    "        actual = targets.numpy()\n",
    "        actual = actual.reshape((len(actual), 1))\n",
    "        \n",
    "        predictions.append(y_hat)\n",
    "        actuals.append(actual)\n",
    "        \n",
    "    predictions, actuals = np.vstack(predictions), np.vstack(actuals)\n",
    "    mse = mean_squared_error(actuals, predictions)\n",
    "    \n",
    "    return mse"
   ]
  },
  {
   "cell_type": "code",
   "execution_count": 1141,
   "id": "126e8962",
   "metadata": {},
   "outputs": [],
   "source": [
    "def predict(row, model):\n",
    "    # convert row to data\n",
    "    row = torch.Tensor([row])\n",
    "    y_hat = model(row)\n",
    "    y_hat = y_hat.detach().numpy()\n",
    "    return y_hat\n",
    "    "
   ]
  },
  {
   "cell_type": "code",
   "execution_count": null,
   "id": "696db580",
   "metadata": {},
   "outputs": [],
   "source": []
  },
  {
   "cell_type": "code",
   "execution_count": 1160,
   "id": "acc9c728",
   "metadata": {},
   "outputs": [],
   "source": [
    "dataset = SumDataset(x, y)"
   ]
  },
  {
   "cell_type": "code",
   "execution_count": 1161,
   "id": "ed2fd09b",
   "metadata": {},
   "outputs": [],
   "source": [
    "train_dl, test_dl = dataset.prepare_dataset()"
   ]
  },
  {
   "cell_type": "code",
   "execution_count": 1162,
   "id": "7d6e20df",
   "metadata": {},
   "outputs": [
    {
     "name": "stdout",
     "output_type": "stream",
     "text": [
      "670 11\n"
     ]
    }
   ],
   "source": [
    "print(len(train_dl), len(test_dl)) # returns batches"
   ]
  },
  {
   "cell_type": "code",
   "execution_count": 1163,
   "id": "74aa49ee",
   "metadata": {},
   "outputs": [
    {
     "name": "stdout",
     "output_type": "stream",
     "text": [
      "small model\n"
     ]
    }
   ],
   "source": [
    "model = MLP(2)"
   ]
  },
  {
   "cell_type": "code",
   "execution_count": 1164,
   "id": "9340459c",
   "metadata": {},
   "outputs": [
    {
     "name": "stdout",
     "output_type": "stream",
     "text": [
      "Epoch 0, Loss: 0.18793036043643951\n",
      "Epoch 1, Loss: 0.000188521618838422\n",
      "Epoch 2, Loss: 0.3732622265815735\n",
      "Epoch 3, Loss: 1.6265093088150024\n",
      "Epoch 4, Loss: 0.23494327068328857\n",
      "Epoch 5, Loss: 0.6790640354156494\n",
      "Epoch 6, Loss: 0.12378326058387756\n",
      "Epoch 7, Loss: 1.9549399614334106\n",
      "Epoch 8, Loss: 0.010634665377438068\n",
      "Epoch 9, Loss: 0.05676129460334778\n",
      "Epoch 10, Loss: 0.008694817312061787\n",
      "Epoch 11, Loss: 0.46069175004959106\n",
      "Epoch 12, Loss: 0.6194071769714355\n",
      "Epoch 13, Loss: 0.7248518466949463\n",
      "Epoch 14, Loss: 0.10458822548389435\n",
      "Epoch 15, Loss: 0.05688711255788803\n",
      "Epoch 16, Loss: 0.591006338596344\n",
      "Epoch 17, Loss: 0.007275555748492479\n",
      "Epoch 18, Loss: 0.003885410726070404\n",
      "Epoch 19, Loss: 0.030994968488812447\n",
      "Epoch 20, Loss: 0.005114500876516104\n",
      "Epoch 21, Loss: 0.00024460465647280216\n",
      "Epoch 22, Loss: 0.0001469321723561734\n",
      "Epoch 23, Loss: 0.010823056101799011\n",
      "Epoch 24, Loss: 0.059183500707149506\n",
      "Epoch 25, Loss: 0.0034113298170268536\n",
      "Epoch 26, Loss: 0.02702244557440281\n",
      "Epoch 27, Loss: 0.013751923106610775\n",
      "Epoch 28, Loss: 0.008148228749632835\n",
      "Epoch 29, Loss: 0.012453892268240452\n",
      "Epoch 30, Loss: 0.02387874387204647\n",
      "Epoch 31, Loss: 1.4777312571823131e-05\n",
      "Epoch 32, Loss: 0.010544213466346264\n",
      "Epoch 33, Loss: 0.004864452872425318\n",
      "Epoch 34, Loss: 0.009016626514494419\n",
      "Epoch 35, Loss: 0.029653752222657204\n",
      "Epoch 36, Loss: 0.0001263806043425575\n",
      "Epoch 37, Loss: 0.021638331934809685\n",
      "Epoch 38, Loss: 0.007278262171894312\n",
      "Epoch 39, Loss: 0.16183915734291077\n"
     ]
    },
    {
     "data": {
      "image/png": "[encoded data removed]",
      "text/plain": [
       "<Figure size 432x288 with 1 Axes>"
      ]
     },
     "metadata": {
      "needs_background": "light"
     },
     "output_type": "display_data"
    }
   ],
   "source": [
    "train_model(train_dl, model)"
   ]
  },
  {
   "cell_type": "code",
   "execution_count": 1113,
   "id": "ede2a8e4",
   "metadata": {},
   "outputs": [],
   "source": [
    "mse = evaluate_model(test_dl, model)"
   ]
  },
  {
   "cell_type": "code",
   "execution_count": 1114,
   "id": "99c81d31",
   "metadata": {},
   "outputs": [
    {
     "name": "stdout",
     "output_type": "stream",
     "text": [
      "MSE: 0.000, RMSE: 0.001\n"
     ]
    }
   ],
   "source": [
    "print(\"MSE: %.3f, RMSE: %.3f\" % (mse, sqrt(mse)))"
   ]
  },
  {
   "cell_type": "code",
   "execution_count": 1134,
   "id": "37a6e98d",
   "metadata": {},
   "outputs": [
    {
     "name": "stdout",
     "output_type": "stream",
     "text": [
      "predicted: 154.386 155\n"
     ]
    }
   ],
   "source": [
    "test_var = np.array([150, 5]) #/ np.max(x)\n",
    "test_var_norm = (test_var - np.mean(x)) / np.std(x)\n",
    "y_hat = predict(test_var_norm, model) #* np.max(y)\n",
    "y_act = (test_var[0] + test_var[1]) #* np.max(x)\n",
    "y_hat_norm = np.std(y) * y_hat + np.mean(y) # de-normalise the output\n",
    "print(\"predicted: %.3f\" % y_hat_norm, y_act)"
   ]
  },
  {
   "cell_type": "code",
   "execution_count": null,
   "id": "67ab65c4",
   "metadata": {},
   "outputs": [],
   "source": [
    "# todo:\n",
    "# normalise the inputs using z norm\n",
    "# https://machinelearningmastery.com/how-to-improve-neural-network-stability-and-modeling-performance-with-data-scaling/\n",
    "# https://stats.stackexchange.com/questions/66820/denormalize-value-after-prediction\n",
    "# https://ai.stackexchange.com/questions/20001/do-i-need-to-denormalise-results-in-linear-regression\n",
    "# try more hidden layers and reduce their size\n",
    "\n",
    "# results:\n",
    "# for numbers size 1-10, training works well with first hidden layer of 10 neurons with lr = 0.01\n",
    "# for number of larger size (1-100) need to increase number of neurons to 100, reduce learning rate to 0.001\n",
    "# for even larger numbers increased nn layer size to 1k and very long training gradually reducing lr to 0.00001 seemed to work. \n",
    "# but this problematic as nn might have memorised the outputs but not generaled sumation function"
   ]
  },
  {
   "cell_type": "code",
   "execution_count": null,
   "id": "b9135466",
   "metadata": {},
   "outputs": [],
   "source": [
    "# Notes, working version\n",
    "# seems like normalising values with mean and std produces much less acurate results.\n",
    "# however, if not normalised values then training is slow and does not always converge\n",
    "# simple normalisation just x = x / max(x) works well\n",
    "# bigger network produces much better results as well as compared just to 10 neuron layer in input stage"
   ]
  }
 ],
 "metadata": {
  "kernelspec": {
   "display_name": "Python 3 (ipykernel)",
   "language": "python",
   "name": "python3"
  },
  "language_info": {
   "codemirror_mode": {
    "name": "ipython",
    "version": 3
   },
   "file_extension": ".py",
   "mimetype": "text/x-python",
   "name": "python",
   "nbconvert_exporter": "python",
   "pygments_lexer": "ipython3",
   "version": "3.8.10"
  }
 },
 "nbformat": 4,
 "nbformat_minor": 5
}
