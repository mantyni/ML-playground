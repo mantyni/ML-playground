{
 "cells": [
  {
   "cell_type": "code",
   "execution_count": 1,
   "id": "268c7200",
   "metadata": {},
   "outputs": [],
   "source": [
    "# MLP implementation that learns multiplication of two numbers as a classification task\n",
    "# Inputs: two numbers between 1-15\n",
    "# Outputs: 3 numbers [X, X, X], each number stands for a digit in the multiplication result\n",
    "# Eg. 8x11 = [0 8 8]\n",
    "\n",
    "# Notes: increasing the problem complexity requires larger network size in the top layers\n",
    "# Multication results that contain 3 digits require network increase from 200 neurons to 500 neurons in the top layer"
   ]
  },
  {
   "cell_type": "code",
   "execution_count": null,
   "id": "fba04902",
   "metadata": {},
   "outputs": [],
   "source": [
    "# TODO:\n",
    "# Add normalisation\n",
    "# Implement batches for evaluation"
   ]
  },
  {
   "cell_type": "code",
   "execution_count": 889,
   "id": "5c72613b",
   "metadata": {},
   "outputs": [],
   "source": [
    "import torch\n",
    "import numpy as np\n",
    "from sklearn.metrics import mean_squared_error\n",
    "from numpy import sqrt\n",
    "import matplotlib.pyplot as plt\n",
    "import pandas as pd\n",
    "from torch.optim import lr_scheduler\n",
    "\n",
    "from torch.utils.tensorboard import SummaryWriter"
   ]
  },
  {
   "cell_type": "code",
   "execution_count": 890,
   "id": "d5e22a2d",
   "metadata": {},
   "outputs": [],
   "source": [
    "writer = SummaryWriter('runs/mlp_multiplication')\n",
    "# run tensorboard --logdir=runs\n",
    "# open localhost:6006 in browser to see tensorboard"
   ]
  },
  {
   "cell_type": "code",
   "execution_count": 891,
   "id": "77f20f4e",
   "metadata": {},
   "outputs": [],
   "source": [
    "# Dataset class. Prepare the dataset, normalize the inputs and targets, split into training and testing subsets\n",
    "\n",
    "class MultiDataset(torch.utils.data.Dataset):\n",
    "    def __init__(self, x, y):\n",
    "        # Normalize dividing input by max value so all inputs scale from 0-1\n",
    "        self.x = torch.tensor(x / np.max(x), dtype=torch.float32)\n",
    "        self.y = torch.tensor(y)\n",
    "        \n",
    "    def __len__(self):\n",
    "        return len(self.x)\n",
    "    \n",
    "    def __getitem__(self, index):\n",
    "        variables = self.x[index]\n",
    "        output1 = self.y[index][0]\n",
    "        output2 = self.y[index][1]\n",
    "        output3 = self.y[index][2]\n",
    "        return variables, output1, output2, output3\n",
    "        #return [self.x[idx], self.y[idx]]\n",
    "    \n",
    "    def get_splits(self, n_test = 0.33):\n",
    "        test_size = round(n_test * len(self.x))\n",
    "        train_size = len(self.x) - test_size\n",
    "        \n",
    "        return torch.utils.data.random_split(self, [train_size, test_size]) \n",
    "    \n",
    "    def prepare_dataset(self):\n",
    "        train, test = self.get_splits()\n",
    "        train_dl = torch.utils.data.DataLoader(train, batch_size=4, shuffle=True) # Test with larger batch numbers\n",
    "        test_dl = torch.utils.data.DataLoader(test, batch_size=1, shuffle=False)\n",
    "        \n",
    "        return train_dl, test_dl\n",
    "        "
   ]
  },
  {
   "cell_type": "code",
   "execution_count": 892,
   "id": "a5239375",
   "metadata": {},
   "outputs": [],
   "source": [
    "#for i, (inputs, target1, target2, target3) in enumerate(train_dl):\n",
    "#    print(i, inputs, target1, target2, target3)"
   ]
  },
  {
   "cell_type": "code",
   "execution_count": 893,
   "id": "3a4cbaf2",
   "metadata": {},
   "outputs": [],
   "source": [
    "# Multi-layer Perceptron model with 3 hidden layers\n",
    "\n",
    "class MLP(torch.nn.Module):\n",
    "    def __init__(self, n_inputs):\n",
    "        super(MLP, self).__init__()        \n",
    "        self.hidden1 = torch.nn.Sequential(torch.nn.Linear(n_inputs, 500), torch.nn.ReLU())\n",
    "        self.hidden2 = torch.nn.Sequential(torch.nn.Linear(500, 100), torch.nn.ReLU())        \n",
    "        self.hidden3 = torch.nn.Sequential(torch.nn.Linear(100, 50), torch.nn.ReLU())\n",
    "        self.output1 = torch.nn.Linear(50,10)\n",
    "        self.output2 = torch.nn.Linear(50,10)\n",
    "        self.output3 = torch.nn.Linear(50,10)\n",
    "    \n",
    "    def forward(self, X):\n",
    "        X = self.hidden1(X)\n",
    "        X = self.hidden2(X)\n",
    "        X = self.hidden3(X)\n",
    "        X1 = self.output1(X)\n",
    "        X2 = self.output2(X)\n",
    "        X3 = self.output3(X)\n",
    "\n",
    "        return X1, X2, X3"
   ]
  },
  {
   "cell_type": "code",
   "execution_count": 894,
   "id": "8844840e",
   "metadata": {},
   "outputs": [],
   "source": [
    "# Train the model\n",
    "\n",
    "def train_model(train_dl, model, num_of_epochs=30):    \n",
    "    criterion = torch.nn.CrossEntropyLoss()\n",
    "    #optimizer = torch.optim.Adam(model.parameters(), lr=0.001) # Adam optimizer performs better compared to SGD\n",
    "    #scheduler = torch.optim.lr_scheduler.ExponentialLR(optimizer, gamma=0.85) # Learning rate scheduler\n",
    "\n",
    "    optimizer = torch.optim.SGD(model.parameters(), lr=0.01, momentum=0.8) # SGD optimizer\n",
    "    scheduler = lr_scheduler.StepLR(optimizer, step_size=7, gamma=0.5)   \n",
    "\n",
    "    \n",
    "    error = [] # Collect errors for plotting\n",
    "    lrs = []\n",
    "    model.train()\n",
    "    \n",
    "    for epoch in range(1, num_of_epochs+1): # Train for the specified number of epochs\n",
    "        for i, (inputs, target1, target2, target3) in enumerate(train_dl):\n",
    "            \n",
    "            optimizer.zero_grad()\n",
    "            y_hat1, y_hat2, y_hat3 = model(inputs)\n",
    "            #print(\"test\", y_hat1*9, y_hat2*9)\n",
    "            #print(\"test target\", target1, target2)\n",
    "            loss1 = criterion(y_hat1, target1)\n",
    "            loss2 = criterion(y_hat2, target2)\n",
    "            loss3 = criterion(y_hat3, target3)\n",
    "            loss = loss1 + loss2 + loss3\n",
    "            \n",
    "            loss.backward()\n",
    "            optimizer.step()\n",
    "        \n",
    "        writer.add_scalar('training loss', loss.item(), epoch) # write to tensorboard\n",
    "        error.append(np.mean(loss.item())) \n",
    "        \n",
    "        lrs.append(optimizer.param_groups[0][\"lr\"])\n",
    "        scheduler.step()\n",
    "        \n",
    "        if epoch % 5 == 0 or epoch == num_of_epochs: # Print loss at every 5th epoch\n",
    "            print(f\"Epoch {epoch}, Loss: {loss.item()}, LR: {optimizer.param_groups[0]['lr']:.5f}\")\n",
    "        \n",
    "    plt.plot(error, label='Loss') \n",
    "    plt.plot(lrs, label='Lr') \n",
    "    plt.legend(loc='upper left')\n",
    "    plt.xlabel('Epoch')\n",
    "    plt.title('Model results')\n",
    "    plt.show()"
   ]
  },
  {
   "cell_type": "code",
   "execution_count": 895,
   "id": "c6bcf7ff",
   "metadata": {},
   "outputs": [],
   "source": [
    "# Predict the output\n",
    "\n",
    "def predict(row, model):\n",
    "    row = torch.Tensor([row]) # Convert row to Torch tensor format\n",
    "    row_norm = row / np.max(x) # normalise the input, change to MAX global variable\n",
    "    y_hat1, y_hat2, y_hat3 = model(row_norm)\n",
    "    y_hat1 = torch.argmax(y_hat1).item()\n",
    "    y_hat2 = torch.argmax(y_hat2).item()\n",
    "    y_hat3 = torch.argmax(y_hat3).item()\n",
    "    \n",
    "    result = list([str(y_hat1), str(y_hat2), str(y_hat3)])\n",
    "    result = int(\"\".join(result))\n",
    "    \n",
    "    return result\n",
    "    "
   ]
  },
  {
   "cell_type": "code",
   "execution_count": 897,
   "id": "a4ba6c4c",
   "metadata": {},
   "outputs": [],
   "source": [
    "# Evaluate the model\n",
    "\n",
    "def evaluate_model(test_dl, model):\n",
    "    model.eval()\n",
    "    predictions, actuals = list(), list()\n",
    "    missed = {}\n",
    "    for i, (inputs, target1, target2, target3) in enumerate(test_dl):\n",
    "        \n",
    "        y_hat1, y_hat2, y_hat3 = model(inputs)\n",
    "        y_hat1 = torch.argmax(y_hat1).item()\n",
    "        y_hat2 = torch.argmax(y_hat2).item()\n",
    "        y_hat3 = torch.argmax(y_hat3).item()\n",
    "        \n",
    "        y_hat = list([str(y_hat1), str(y_hat2), str(y_hat3)])\n",
    "        y_hat = int(\"\".join(y_hat))\n",
    "        \n",
    "        actual = int(inputs[0][0].item() * np.max(x) * inputs[0][1].item() * np.max(x))\n",
    "                \n",
    "        predictions.append(y_hat)\n",
    "        actuals.append(actual)\n",
    "        \n",
    "        if y_hat != actual:\n",
    "            res = (int(inputs[0][0].item()*np.max(x)), int(inputs[0][1].item()*np.max(x)))\n",
    "            missed[res] = y_hat\n",
    "        #print(predictions[i])\n",
    "        #print(actuals[i])\n",
    "        \n",
    "    predictions, actuals = np.vstack(predictions), np.vstack(actuals)\n",
    "    mse = mean_squared_error(actuals, predictions)\n",
    "        \n",
    "    print(\"MSE: %.10f, RMSE: %.10f\" % (mse, sqrt(mse)))\n",
    "    print(\"Misclassified: \")\n",
    "    for d in missed:\n",
    "        print(d, missed[d])\n"
   ]
  },
  {
   "cell_type": "code",
   "execution_count": 898,
   "id": "df580876",
   "metadata": {},
   "outputs": [],
   "source": [
    "# Initialise the model's linear layer weights\n",
    "def init_weights(m):\n",
    "    if isinstance(m, torch.nn.Linear):\n",
    "        torch.nn.init.xavier_uniform(m.weight)\n",
    "        m.bias.data.fill_(0.01)"
   ]
  },
  {
   "cell_type": "code",
   "execution_count": 899,
   "id": "bd02d26d",
   "metadata": {},
   "outputs": [],
   "source": [
    "# Create the dataset containing two numbers as input and multiplication result as output\n",
    "sample_size = 10000\n",
    "max_range = 16 #15 upper number limit \n",
    "\n",
    "x = []\n",
    "y = []\n",
    "\n",
    "for d in range(sample_size):\n",
    "    x.append([np.random.randint(1,max_range), np.random.randint(1,max_range)]) # Trained on ranges between 0 to 15. \n",
    "    y1 = x[d][0] * x[d][1] \n",
    "    y.append(list(str(y1)))\n",
    "    length = len(y[d])\n",
    "    \n",
    "    if length == 1:\n",
    "        y[d].insert(0, '0')\n",
    "        y[d].insert(0, '0')\n",
    "        \n",
    "    if length == 2:\n",
    "        y[d].insert(0, '0')\n",
    "    \n",
    "    y[d] = [int(i) for i in y[d]]\n",
    "\n",
    "x = np.array(x)\n",
    "y = np.array(y)"
   ]
  },
  {
   "cell_type": "code",
   "execution_count": 900,
   "id": "23c5d7eb",
   "metadata": {
    "scrolled": true
   },
   "outputs": [
    {
     "name": "stdout",
     "output_type": "stream",
     "text": [
      "input: [12  9], output: [1 0 8]\n"
     ]
    }
   ],
   "source": [
    "# Review the dataset\n",
    "index = 5\n",
    "print(f\"input: {x[index]}, output: {y[index]}\") "
   ]
  },
  {
   "cell_type": "code",
   "execution_count": 901,
   "id": "acc9c728",
   "metadata": {},
   "outputs": [],
   "source": [
    "dataset = MultiDataset(x, y) # Create ataset class"
   ]
  },
  {
   "cell_type": "code",
   "execution_count": 902,
   "id": "ed2fd09b",
   "metadata": {},
   "outputs": [],
   "source": [
    "train_dl, test_dl = dataset.prepare_dataset() # Prepare dataset with train and test subsets"
   ]
  },
  {
   "cell_type": "code",
   "execution_count": 903,
   "id": "84b28d2c",
   "metadata": {},
   "outputs": [
    {
     "name": "stdout",
     "output_type": "stream",
     "text": [
      "1675 3300\n"
     ]
    }
   ],
   "source": [
    "print(len(train_dl), len(test_dl)) # Check the length of training and testing batch sizes"
   ]
  },
  {
   "cell_type": "code",
   "execution_count": 904,
   "id": "25671ece",
   "metadata": {},
   "outputs": [],
   "source": [
    "# Create MLP model with inputs of length 2. Initialize model weights\n",
    "model = MLP(2) \n",
    "init_weights(model)"
   ]
  },
  {
   "cell_type": "code",
   "execution_count": 905,
   "id": "27029ad1",
   "metadata": {},
   "outputs": [],
   "source": [
    "# Add to tensorboard to visual model structure\n",
    "dataiter = iter(train_dl)\n",
    "train_data, label1, label2, label3 = dataiter.next()\n",
    "writer.add_graph(model, train_data)\n",
    "writer.close()"
   ]
  },
  {
   "cell_type": "code",
   "execution_count": 906,
   "id": "e37d795a",
   "metadata": {},
   "outputs": [
    {
     "name": "stdout",
     "output_type": "stream",
     "text": [
      "Epoch 5, Loss: 2.718740463256836, LR: 0.01000\n",
      "Epoch 10, Loss: 1.3492908477783203, LR: 0.00500\n",
      "Epoch 15, Loss: 1.0548193454742432, LR: 0.00250\n",
      "Epoch 20, Loss: 0.13032600283622742, LR: 0.00250\n",
      "Epoch 25, Loss: 0.07156398147344589, LR: 0.00125\n",
      "Epoch 30, Loss: 0.2551110088825226, LR: 0.00063\n",
      "Epoch 35, Loss: 0.0743391215801239, LR: 0.00031\n",
      "Epoch 40, Loss: 0.03942646086215973, LR: 0.00031\n",
      "Epoch 45, Loss: 0.013478275388479233, LR: 0.00016\n",
      "Epoch 50, Loss: 0.04058409482240677, LR: 0.00008\n"
     ]
    },
    {
     "data": {
      "image/png": "[encoded data removed]",
      "text/plain": [
       "<Figure size 432x288 with 1 Axes>"
      ]
     },
     "metadata": {
      "needs_background": "light"
     },
     "output_type": "display_data"
    }
   ],
   "source": [
    "# Train the model for 30 epochs\n",
    "train_model(train_dl, model, 50)"
   ]
  },
  {
   "cell_type": "code",
   "execution_count": 907,
   "id": "e4f23e77",
   "metadata": {},
   "outputs": [
    {
     "name": "stdout",
     "output_type": "stream",
     "text": [
      "MSE: 0.3754545455, RMSE: 0.6127434581\n",
      "Misclassified: \n",
      "(14, 15) 215\n",
      "(4, 4) 15\n",
      "(15, 14) 215\n",
      "(13, 15) 190\n",
      "(15, 13) 190\n"
     ]
    }
   ],
   "source": [
    "# Evaluate the model using mean square error and root mean square error\n",
    "mse = evaluate_model(test_dl, model)"
   ]
  },
  {
   "cell_type": "code",
   "execution_count": 912,
   "id": "8612b400",
   "metadata": {},
   "outputs": [
    {
     "data": {
      "text/plain": [
       "15"
      ]
     },
     "execution_count": 912,
     "metadata": {},
     "output_type": "execute_result"
    }
   ],
   "source": [
    "predict([4,4], model)"
   ]
  },
  {
   "cell_type": "code",
   "execution_count": 909,
   "id": "39a1f5e0",
   "metadata": {},
   "outputs": [
    {
     "data": {
      "text/html": [
       "<div>\n",
       "<style scoped>\n",
       "    .dataframe tbody tr th:only-of-type {\n",
       "        vertical-align: middle;\n",
       "    }\n",
       "\n",
       "    .dataframe tbody tr th {\n",
       "        vertical-align: top;\n",
       "    }\n",
       "\n",
       "    .dataframe thead th {\n",
       "        text-align: right;\n",
       "    }\n",
       "</style>\n",
       "<table border=\"1\" class=\"dataframe\">\n",
       "  <thead>\n",
       "    <tr style=\"text-align: right;\">\n",
       "      <th></th>\n",
       "      <th>Input</th>\n",
       "      <th>Predicted:</th>\n",
       "      <th>Actual</th>\n",
       "      <th>Error</th>\n",
       "    </tr>\n",
       "  </thead>\n",
       "  <tbody>\n",
       "    <tr>\n",
       "      <th>0</th>\n",
       "      <td>[6, 4]</td>\n",
       "      <td>24</td>\n",
       "      <td>24</td>\n",
       "      <td>0.0</td>\n",
       "    </tr>\n",
       "    <tr>\n",
       "      <th>1</th>\n",
       "      <td>[12, 6]</td>\n",
       "      <td>72</td>\n",
       "      <td>72</td>\n",
       "      <td>0.0</td>\n",
       "    </tr>\n",
       "    <tr>\n",
       "      <th>2</th>\n",
       "      <td>[13, 4]</td>\n",
       "      <td>52</td>\n",
       "      <td>52</td>\n",
       "      <td>0.0</td>\n",
       "    </tr>\n",
       "    <tr>\n",
       "      <th>3</th>\n",
       "      <td>[11, 5]</td>\n",
       "      <td>55</td>\n",
       "      <td>55</td>\n",
       "      <td>0.0</td>\n",
       "    </tr>\n",
       "    <tr>\n",
       "      <th>4</th>\n",
       "      <td>[9, 8]</td>\n",
       "      <td>72</td>\n",
       "      <td>72</td>\n",
       "      <td>0.0</td>\n",
       "    </tr>\n",
       "    <tr>\n",
       "      <th>5</th>\n",
       "      <td>[14, 12]</td>\n",
       "      <td>168</td>\n",
       "      <td>168</td>\n",
       "      <td>0.0</td>\n",
       "    </tr>\n",
       "    <tr>\n",
       "      <th>6</th>\n",
       "      <td>[12, 14]</td>\n",
       "      <td>168</td>\n",
       "      <td>168</td>\n",
       "      <td>0.0</td>\n",
       "    </tr>\n",
       "    <tr>\n",
       "      <th>7</th>\n",
       "      <td>[14, 4]</td>\n",
       "      <td>56</td>\n",
       "      <td>56</td>\n",
       "      <td>0.0</td>\n",
       "    </tr>\n",
       "    <tr>\n",
       "      <th>8</th>\n",
       "      <td>[2, 5]</td>\n",
       "      <td>10</td>\n",
       "      <td>10</td>\n",
       "      <td>0.0</td>\n",
       "    </tr>\n",
       "    <tr>\n",
       "      <th>9</th>\n",
       "      <td>[8, 12]</td>\n",
       "      <td>96</td>\n",
       "      <td>96</td>\n",
       "      <td>0.0</td>\n",
       "    </tr>\n",
       "  </tbody>\n",
       "</table>\n",
       "</div>"
      ],
      "text/plain": [
       "      Input  Predicted:  Actual  Error\n",
       "0    [6, 4]          24      24    0.0\n",
       "1   [12, 6]          72      72    0.0\n",
       "2   [13, 4]          52      52    0.0\n",
       "3   [11, 5]          55      55    0.0\n",
       "4    [9, 8]          72      72    0.0\n",
       "5  [14, 12]         168     168    0.0\n",
       "6  [12, 14]         168     168    0.0\n",
       "7   [14, 4]          56      56    0.0\n",
       "8    [2, 5]          10      10    0.0\n",
       "9   [8, 12]          96      96    0.0"
      ]
     },
     "metadata": {},
     "output_type": "display_data"
    }
   ],
   "source": [
    "# Test learned multiplication with few random samples \n",
    "sample = []\n",
    "predicted = []\n",
    "actual = []\n",
    "error = []\n",
    "\n",
    "for g in range(0,10):\n",
    "    sample.append(np.array([np.random.randint(1,max_range), np.random.randint(1,max_range)]))\n",
    "    predicted.append(predict(sample[g], model))\n",
    "    actual.append(sample[g][0] * sample[g][1])\n",
    "    error.append(mean_squared_error([predicted], [actual]))\n",
    "    \n",
    "table = {'Input': sample, \n",
    "        'Predicted:': predicted,\n",
    "        'Actual': actual,\n",
    "        'Error': error\n",
    "       }\n",
    "pd.set_option(\"display.precision\", 3)\n",
    "df = pd.DataFrame(table)\n",
    "display(df)"
   ]
  },
  {
   "cell_type": "code",
   "execution_count": 910,
   "id": "fe498362",
   "metadata": {},
   "outputs": [
    {
     "name": "stdout",
     "output_type": "stream",
     "text": [
      "156.000  156\n"
     ]
    }
   ],
   "source": [
    "# Manually test a sample of numbers between 1-15\n",
    "x1 = 12\n",
    "x2 = 13\n",
    "print(\"%.3f \" % predict(np.array([x1,x2]), model), (x1*x2))"
   ]
  }
 ],
 "metadata": {
  "kernelspec": {
   "display_name": "Python 3 (ipykernel)",
   "language": "python",
   "name": "python3"
  },
  "language_info": {
   "codemirror_mode": {
    "name": "ipython",
    "version": 3
   },
   "file_extension": ".py",
   "mimetype": "text/x-python",
   "name": "python",
   "nbconvert_exporter": "python",
   "pygments_lexer": "ipython3",
   "version": "3.8.10"
  }
 },
 "nbformat": 4,
 "nbformat_minor": 5
}
