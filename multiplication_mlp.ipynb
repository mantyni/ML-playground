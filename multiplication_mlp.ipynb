{
 "cells": [
  {
   "cell_type": "code",
   "execution_count": 466,
   "id": "268c7200",
   "metadata": {},
   "outputs": [],
   "source": [
    "# simple MLP to learn to compute two number multiplacation (numbers between 1 to 10)"
   ]
  },
  {
   "cell_type": "code",
   "execution_count": 2,
   "id": "5c72613b",
   "metadata": {},
   "outputs": [],
   "source": [
    "import torch\n",
    "import numpy as np\n",
    "from sklearn.metrics import mean_squared_error\n",
    "from numpy import sqrt\n",
    "import matplotlib.pyplot as plt\n"
   ]
  },
  {
   "cell_type": "code",
   "execution_count": 22,
   "id": "bd02d26d",
   "metadata": {},
   "outputs": [],
   "source": [
    "x = []\n",
    "y = np.zeros(5000)\n",
    "\n",
    "for d in range(len(y)):\n",
    "    # trained on ranges between 0 to 100. Can change to 1k or 10k\n",
    "    x.append([np.random.randint(1,10), np.random.randint(1,10)])\n",
    "    y[d] = x[d][0] * x[d][1] \n",
    "\n",
    "x = np.array(x)"
   ]
  },
  {
   "cell_type": "code",
   "execution_count": 8,
   "id": "23c5d7eb",
   "metadata": {},
   "outputs": [
    {
     "name": "stdout",
     "output_type": "stream",
     "text": [
      "[7 3] 21.0\n"
     ]
    }
   ],
   "source": [
    "print(x[1], y[1])"
   ]
  },
  {
   "cell_type": "code",
   "execution_count": 9,
   "id": "77f20f4e",
   "metadata": {},
   "outputs": [],
   "source": [
    "class SumDataset(torch.utils.data.Dataset):\n",
    "    def __init__(self, x, y):\n",
    "        # normalise dataset\n",
    "        self.x = (x - np.mean(x)) / np.std(x) \n",
    "        #self.x = x / np.max(x)\n",
    "        self.y = (y - np.mean(y)) / np.std(y) \n",
    "        #self.y = y / np.max(y)\n",
    "        \n",
    "        self.x = self.x.astype('float32')\n",
    "        self.y = self.y.reshape(len(y), 1)\n",
    "        self.y = self.y.astype('float32')\n",
    "    \n",
    "    def __len__(self):\n",
    "        return len(self.x)\n",
    "    \n",
    "    def __getitem__(self, idx):\n",
    "        return [self.x[idx], self.y[idx]]\n",
    "    \n",
    "    def get_splits(self, n_test = 0.33):\n",
    "        test_size = round(n_test * len(self.x))\n",
    "        train_size = len(self.x) - test_size\n",
    "        \n",
    "        return torch.utils.data.random_split(self, [train_size, test_size]) # need random split here\n",
    "    \n",
    "    def prepare_dataset(self):\n",
    "        train, test = self.get_splits()\n",
    "        train_dl = torch.utils.data.DataLoader(train, batch_size=1, shuffle=True) # batching this dataset does not work\n",
    "        test_dl = torch.utils.data.DataLoader(train, batch_size=64, shuffle=False)\n",
    "        \n",
    "        return train_dl, test_dl\n",
    "        "
   ]
  },
  {
   "cell_type": "code",
   "execution_count": 10,
   "id": "c9119b39",
   "metadata": {},
   "outputs": [],
   "source": [
    "# Do not use, small model produces poor results \n",
    "\n",
    "class MLP(torch.nn.Module):\n",
    "    def __init__(self, n_inputs):\n",
    "        super(MLP, self).__init__()\n",
    "        print(\"small model\")\n",
    "        # first hidden layer input\n",
    "        self.hidden1 = torch.nn.Linear(n_inputs, 10)\n",
    "        torch.nn.init.xavier_uniform_(self.hidden1.weight)\n",
    "        self.act1 = torch.nn.Sigmoid()\n",
    "        # second hiddn layer\n",
    "        self.hidden2 = torch.nn.Linear(10, 8)\n",
    "        torch.nn.init.xavier_uniform_(self.hidden2.weight)\n",
    "        self.act2 = torch.nn.Sigmoid()\n",
    "        \n",
    "        # third hidden layer, output\n",
    "        self.hidden3 = torch.nn.Linear(8, 1)\n",
    "        torch.nn.init.xavier_uniform_(self.hidden3.weight)\n",
    "\n",
    "        \n",
    "    def forward(self, d):\n",
    "        d = self.hidden1(d)\n",
    "        d = self.act1(d)\n",
    "        d = self.hidden2(d)\n",
    "        d = self.act2(d)        \n",
    "        d = self.hidden3(d)\n",
    "\n",
    "        return d"
   ]
  },
  {
   "cell_type": "code",
   "execution_count": 23,
   "id": "dab444ac",
   "metadata": {},
   "outputs": [],
   "source": [
    "class MLP(torch.nn.Module):\n",
    "    def __init__(self, n_inputs):\n",
    "        super(MLP, self).__init__()\n",
    "        # first hidden layer input\n",
    "        self.hidden1 = torch.nn.Linear(n_inputs, 200)\n",
    "        torch.nn.init.xavier_uniform_(self.hidden1.weight)\n",
    "        self.act1 = torch.nn.Sigmoid()\n",
    "        # second hiddn layer\n",
    "        self.hidden2 = torch.nn.Linear(200, 100)\n",
    "        torch.nn.init.xavier_uniform_(self.hidden2.weight)\n",
    "        self.act2 = torch.nn.Sigmoid()\n",
    "        \n",
    "        self.hidden3 = torch.nn.Linear(100, 20)\n",
    "        torch.nn.init.xavier_uniform_(self.hidden3.weight)\n",
    "        self.act3 = torch.nn.Sigmoid()\n",
    "        \n",
    "        # third hidden layer, output\n",
    "        self.hidden4 = torch.nn.Linear(20, 1)\n",
    "        torch.nn.init.xavier_uniform_(self.hidden3.weight)\n",
    "        \n",
    "    def forward(self, d):\n",
    "        d = self.hidden1(d)\n",
    "        d = self.act1(d)\n",
    "        d = self.hidden2(d)\n",
    "        d = self.act2(d)        \n",
    "        d = self.hidden3(d)\n",
    "        d = self.act3(d)   \n",
    "        d = self.hidden4(d)\n",
    "\n",
    "        return d"
   ]
  },
  {
   "cell_type": "code",
   "execution_count": 24,
   "id": "8844840e",
   "metadata": {},
   "outputs": [],
   "source": [
    "def train_model(train_dl, model):\n",
    "    criterion = torch.nn.MSELoss()\n",
    "    #optimizer = torch.optim.SGD(model.parameters(), lr=0.01)\n",
    "    # works with both optimisers, but for some reason momentum value has to be low\n",
    "    optimizer = torch.optim.Adam(model.parameters(), lr=0.0001)\n",
    "    #optimizer = torch.optim.SGD(model.parameters(), lr=0.01, momentum=0.1)\n",
    "    error = []\n",
    "    epochs = []\n",
    "    for epoch in range(40):\n",
    "        for i, (inputs, targets) in enumerate(train_dl):\n",
    "            \n",
    "            optimizer.zero_grad()\n",
    "            y_hat = model(inputs)\n",
    "            loss = criterion(y_hat, targets)\n",
    "            loss.backward()\n",
    "            optimizer.step()\n",
    "            \n",
    "        error.append(np.mean(loss.item()))\n",
    "        epochs.append(epoch)\n",
    "        print(f\"Epoch {epoch}, Loss: {loss.item()}\")\n",
    "        \n",
    "    plt.plot(epochs,error)     "
   ]
  },
  {
   "cell_type": "code",
   "execution_count": 13,
   "id": "a4ba6c4c",
   "metadata": {},
   "outputs": [],
   "source": [
    "def evaluate_model(test_dl, model):\n",
    "    predictions, actuals = list(), list()\n",
    "    for i, (inputs, targets) in enumerate(test_dl):\n",
    "        y_hat = model(inputs)\n",
    "        y_hat = y_hat.detach().numpy()\n",
    "        actual = targets.numpy()\n",
    "        actual = actual.reshape((len(actual), 1))\n",
    "        \n",
    "        predictions.append(y_hat)\n",
    "        actuals.append(actual)\n",
    "        \n",
    "    predictions, actuals = np.vstack(predictions), np.vstack(actuals)\n",
    "    mse = mean_squared_error(actuals, predictions)\n",
    "    \n",
    "    return mse"
   ]
  },
  {
   "cell_type": "code",
   "execution_count": 14,
   "id": "c6bcf7ff",
   "metadata": {},
   "outputs": [],
   "source": [
    "def predict(row, model):\n",
    "    # convert row to data\n",
    "    row = torch.Tensor([row])\n",
    "    y_hat = model(row)\n",
    "    y_hat = y_hat.detach().numpy()\n",
    "    return y_hat\n",
    "    "
   ]
  },
  {
   "cell_type": "code",
   "execution_count": null,
   "id": "df580876",
   "metadata": {},
   "outputs": [],
   "source": []
  },
  {
   "cell_type": "code",
   "execution_count": 25,
   "id": "acc9c728",
   "metadata": {},
   "outputs": [],
   "source": [
    "dataset = SumDataset(x, y)"
   ]
  },
  {
   "cell_type": "code",
   "execution_count": 26,
   "id": "ed2fd09b",
   "metadata": {},
   "outputs": [],
   "source": [
    "train_dl, test_dl = dataset.prepare_dataset()"
   ]
  },
  {
   "cell_type": "code",
   "execution_count": 27,
   "id": "84b28d2c",
   "metadata": {},
   "outputs": [
    {
     "name": "stdout",
     "output_type": "stream",
     "text": [
      "3350 53\n"
     ]
    }
   ],
   "source": [
    "print(len(train_dl), len(test_dl)) # returns batches"
   ]
  },
  {
   "cell_type": "code",
   "execution_count": 28,
   "id": "25671ece",
   "metadata": {},
   "outputs": [],
   "source": [
    "model = MLP(2)"
   ]
  },
  {
   "cell_type": "code",
   "execution_count": 29,
   "id": "e37d795a",
   "metadata": {},
   "outputs": [
    {
     "name": "stdout",
     "output_type": "stream",
     "text": [
      "Epoch 0, Loss: 1.937200665473938\n",
      "Epoch 1, Loss: 0.11348465830087662\n",
      "Epoch 2, Loss: 0.02059907652437687\n",
      "Epoch 3, Loss: 0.014855707064270973\n",
      "Epoch 4, Loss: 0.0839434266090393\n",
      "Epoch 5, Loss: 0.2577994465827942\n",
      "Epoch 6, Loss: 0.026960644870996475\n",
      "Epoch 7, Loss: 0.14124327898025513\n",
      "Epoch 8, Loss: 0.002813358325511217\n",
      "Epoch 9, Loss: 0.023192040622234344\n",
      "Epoch 10, Loss: 0.07051482051610947\n",
      "Epoch 11, Loss: 0.004841727204620838\n",
      "Epoch 12, Loss: 0.06189878284931183\n",
      "Epoch 13, Loss: 0.00127401074860245\n",
      "Epoch 14, Loss: 0.011214795522391796\n",
      "Epoch 15, Loss: 0.0017630810616537929\n",
      "Epoch 16, Loss: 0.0023608088959008455\n",
      "Epoch 17, Loss: 0.0012002403382211924\n",
      "Epoch 18, Loss: 0.023876329883933067\n",
      "Epoch 19, Loss: 0.004254441242665052\n",
      "Epoch 20, Loss: 0.03574774041771889\n",
      "Epoch 21, Loss: 0.012851182371377945\n",
      "Epoch 22, Loss: 0.1356291025876999\n",
      "Epoch 23, Loss: 7.106902103259927e-06\n",
      "Epoch 24, Loss: 0.023749474436044693\n",
      "Epoch 25, Loss: 0.0006962111801840365\n",
      "Epoch 26, Loss: 0.00012954276462551206\n",
      "Epoch 27, Loss: 0.00010838694288395345\n",
      "Epoch 28, Loss: 5.7607132475823164e-05\n",
      "Epoch 29, Loss: 0.00021621254563797265\n",
      "Epoch 30, Loss: 0.00045552587835118175\n",
      "Epoch 31, Loss: 0.00040157794137485325\n",
      "Epoch 32, Loss: 6.37258926872164e-05\n",
      "Epoch 33, Loss: 5.122901711729355e-05\n",
      "Epoch 34, Loss: 2.037708145508077e-05\n",
      "Epoch 35, Loss: 1.6649291865178384e-06\n",
      "Epoch 36, Loss: 3.6329231079434976e-05\n",
      "Epoch 37, Loss: 1.8394988728687167e-05\n",
      "Epoch 38, Loss: 0.00013581158418674022\n",
      "Epoch 39, Loss: 1.2977825463167392e-05\n",
      "Epoch 40, Loss: 7.812600961187854e-05\n",
      "Epoch 41, Loss: 5.037923074269202e-07\n",
      "Epoch 42, Loss: 2.281815613969229e-05\n",
      "Epoch 43, Loss: 0.0002462069387547672\n",
      "Epoch 44, Loss: 7.416717562591657e-05\n",
      "Epoch 45, Loss: 0.00016195054922718555\n",
      "Epoch 46, Loss: 0.000160152543685399\n",
      "Epoch 47, Loss: 2.1265310351736844e-05\n",
      "Epoch 48, Loss: 2.9917397114331834e-05\n",
      "Epoch 49, Loss: 1.5344591020038933e-07\n",
      "Epoch 50, Loss: 6.234785541892052e-05\n",
      "Epoch 51, Loss: 8.050621545407921e-05\n",
      "Epoch 52, Loss: 6.695450338156661e-06\n",
      "Epoch 53, Loss: 1.886400605144445e-05\n",
      "Epoch 54, Loss: 4.7958332288544625e-05\n",
      "Epoch 55, Loss: 0.0002489510807208717\n",
      "Epoch 56, Loss: 0.00011202855966985226\n",
      "Epoch 57, Loss: 5.723575213778531e-07\n",
      "Epoch 58, Loss: 9.765339200384915e-05\n",
      "Epoch 59, Loss: 4.9830854550236836e-05\n"
     ]
    },
    {
     "data": {
      "image/png": "[encoded data removed]",
      "text/plain": [
       "<Figure size 432x288 with 1 Axes>"
      ]
     },
     "metadata": {
      "needs_background": "light"
     },
     "output_type": "display_data"
    }
   ],
   "source": [
    "train_model(train_dl, model)"
   ]
  },
  {
   "cell_type": "code",
   "execution_count": 30,
   "id": "e4f23e77",
   "metadata": {},
   "outputs": [],
   "source": [
    "mse = evaluate_model(test_dl, model)"
   ]
  },
  {
   "cell_type": "code",
   "execution_count": 31,
   "id": "66cdc873",
   "metadata": {},
   "outputs": [
    {
     "name": "stdout",
     "output_type": "stream",
     "text": [
      "MSE: 0.000, RMSE: 0.008\n"
     ]
    }
   ],
   "source": [
    "print(\"MSE: %.3f, RMSE: %.3f\" % (mse, sqrt(mse)))"
   ]
  },
  {
   "cell_type": "code",
   "execution_count": 50,
   "id": "9b320ead",
   "metadata": {},
   "outputs": [
    {
     "name": "stdout",
     "output_type": "stream",
     "text": [
      "predicted: 63.977 64\n"
     ]
    }
   ],
   "source": [
    "test_var = np.array([8, 8]) # enter two numbers for multiplacation\n",
    "\n",
    "# normalise the input\n",
    "test_var_norm = (test_var - np.mean(x)) / np.std(x)\n",
    "\n",
    "# compute the output\n",
    "y_hat = predict(test_var_norm, model) \n",
    "y_act = (test_var[0] * test_var[1]) \n",
    "\n",
    "# de-normalise the output \n",
    "y_hat_norm = np.std(y) * y_hat + np.mean(y) \n",
    "print(\"predicted: %.3f\" % y_hat_norm, y_act)"
   ]
  }
 ],
 "metadata": {
  "kernelspec": {
   "display_name": "Python 3 (ipykernel)",
   "language": "python",
   "name": "python3"
  },
  "language_info": {
   "codemirror_mode": {
    "name": "ipython",
    "version": 3
   },
   "file_extension": ".py",
   "mimetype": "text/x-python",
   "name": "python",
   "nbconvert_exporter": "python",
   "pygments_lexer": "ipython3",
   "version": "3.8.10"
  }
 },
 "nbformat": 4,
 "nbformat_minor": 5
}
